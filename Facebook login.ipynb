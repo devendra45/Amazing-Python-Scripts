{
 "cells": [
  {
   "cell_type": "code",
   "execution_count": null,
   "metadata": {},
   "outputs": [],
   "source": [
    "from selenium import webdriver\n",
    "import getpass\n",
    "browser=webdriver.Chrome(\"C:/Users/Admin/Downloads/chromedriver\")\n",
    "browser.get(\"https://www.facebook.com/\")\n",
    "\n",
    "e = input(\"Enter your mobile or email i.e. linked with facebook:\\n\")\n",
    "#Taking the email id from the user and storing it in variable 'e'.\n",
    "p = getpass.getpass(prompt='Enter your fb password:\\n')\n",
    "#Taking the password from the user and storing it in variable 'e'.\n",
    "#Note the usage of getpass to keep the password hidden\n",
    "#But getpass functionality doesn't work on Sypder Console, try Jupyter Notebook for this. \n",
    "\n",
    "email = browser.find_element_by_id(\"email\")\n",
    "email.send_keys(e)\n",
    "#Sending the email address provided by the user in desired place\n",
    "\n",
    "password = browser.find_element_by_id(\"pass\")\n",
    "password.send_keys(p)\n",
    "#Sending the password provided by the user in desired place\n",
    "\n",
    "log_in = browser.find_element_by_id(\"loginbutton\")\n",
    "log_in.click()"
   ]
  },
  {
   "cell_type": "code",
   "execution_count": null,
   "metadata": {},
   "outputs": [],
   "source": []
  }
 ],
 "metadata": {
  "kernelspec": {
   "display_name": "Python 3",
   "language": "python",
   "name": "python3"
  },
  "language_info": {
   "codemirror_mode": {
    "name": "ipython",
    "version": 3
   },
   "file_extension": ".py",
   "mimetype": "text/x-python",
   "name": "python",
   "nbconvert_exporter": "python",
   "pygments_lexer": "ipython3",
   "version": "3.6.4"
  }
 },
 "nbformat": 4,
 "nbformat_minor": 2
}
