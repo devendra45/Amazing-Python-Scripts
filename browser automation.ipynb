{
 "cells": [
  {
   "cell_type": "code",
   "execution_count": 9,
   "metadata": {},
   "outputs": [
    {
     "name": "stdout",
     "output_type": "stream",
     "text": [
      "[0 1 2 3 4 5 6 7 8 9]\n",
      "The syntax of the command is incorrect.\n"
     ]
    }
   ],
   "source": [
    "import numpy as np\n",
    "a=np.arange(10)\n",
    "print(a)\n",
    "a.sum()\n",
    "#a.transpose()\n",
    "%copy"
   ]
  },
  {
   "cell_type": "code",
   "execution_count": 22,
   "metadata": {},
   "outputs": [
    {
     "name": "stdout",
     "output_type": "stream",
     "text": [
      "[[2 3 4]\n",
      " [4 5 6]\n",
      " [6 7 8]]\n",
      "[[2 4 6]\n",
      " [3 5 7]\n",
      " [4 6 8]]\n"
     ]
    }
   ],
   "source": [
    "b=np.array([range(i,i+3) for i in [2,4,6]])\n",
    "print(b)\n",
    "print(b.transpose())"
   ]
  },
  {
   "cell_type": "code",
   "execution_count": 23,
   "metadata": {},
   "outputs": [
    {
     "name": "stdout",
     "output_type": "stream",
     "text": [
      "[[1 2 3]\n",
      " [4 5 6]\n",
      " [7 8 9]]\n",
      "[ 1.61168440e+01 -1.11684397e+00 -1.30367773e-15]\n",
      "[[-0.23197069 -0.78583024  0.40824829]\n",
      " [-0.52532209 -0.08675134 -0.81649658]\n",
      " [-0.8186735   0.61232756  0.40824829]]\n"
     ]
    }
   ],
   "source": [
    "matrix = np.array([[1,2,3],[4,5,6],[7,8,9]])\n",
    "print(matrix)\n",
    "\n",
    "# Calculate the Eigenvalues and Eigenvectors of that Matrix\n",
    "eigenvalues ,eigenvectors=np.linalg.eig(matrix)\n",
    "print(eigenvalues)\n",
    "print(eigenvectors)"
   ]
  },
  {
   "cell_type": "code",
   "execution_count": 27,
   "metadata": {},
   "outputs": [
    {
     "data": {
      "text/plain": [
       "array([[-4.50359963e+15,  9.00719925e+15, -4.50359963e+15],\n",
       "       [ 9.00719925e+15, -1.80143985e+16,  9.00719925e+15],\n",
       "       [-4.50359963e+15,  9.00719925e+15, -4.50359963e+15]])"
      ]
     },
     "execution_count": 27,
     "metadata": {},
     "output_type": "execute_result"
    }
   ],
   "source": [
    "np.linalg.inv(matrix)"
   ]
  },
  {
   "cell_type": "code",
   "execution_count": 29,
   "metadata": {},
   "outputs": [
    {
     "data": {
      "text/plain": [
       "array([1, 4, 7])"
      ]
     },
     "execution_count": 29,
     "metadata": {},
     "output_type": "execute_result"
    }
   ],
   "source": [
    "matrix.min(axis=1)"
   ]
  },
  {
   "cell_type": "code",
   "execution_count": 36,
   "metadata": {},
   "outputs": [],
   "source": [
    "\n",
    "from selenium import webdriver \n",
    "from selenium.webdriver.support.ui import WebDriverWait \n",
    "from selenium.webdriver.support import expected_conditions as EC \n",
    "from selenium.webdriver.common.keys import Keys \n",
    "from selenium.webdriver.common.by import By  \n",
    "  \n",
    "# Replace below path with the absolute path \n",
    "# to chromedriver in your computer \n",
    "driver = webdriver.Chrome('C:/Users/Admin/Downloads/chromedriver') \n",
    "  \n",
    "driver.get(\"https://web.whatsapp.com/\") \n",
    "wait = WebDriverWait(driver, 600) \n",
    "  \n",
    "# Replace 'Friend's Name' with the name of your friend  \n",
    "# or the name of a group  \n",
    "target = '\"Papa\"'\n",
    "  \n",
    "# Replace the below string with your own message \n",
    "string = \"Message sent using Python!!!\"\n",
    "  \n",
    "x_arg = '//span[contains(@title,' + target + ')]'\n",
    "target = wait.until(EC.presence_of_element_located(( \n",
    "    By.XPATH, x_arg))) \n",
    "target.click()\n",
    "\n",
    "input_box=driver.find_element_by_class_name('_13mgZ')\n",
    "\n",
    "for i in range(10): \n",
    "    input_box.send_keys(string + Keys.ENTER) \n",
    "    time.sleep(1)\n"
   ]
  },
  {
   "cell_type": "code",
   "execution_count": 9,
   "metadata": {},
   "outputs": [
    {
     "name": "stdout",
     "output_type": "stream",
     "text": [
      "Enter your email i.e. linked with facebook:\n",
      "7888470956\n",
      "Enter your fb password:\n",
      "········\n"
     ]
    }
   ],
   "source": [
    "from selenium import webdriver\n",
    "import getpass\n",
    "browser=webdriver.Chrome(\"C:/Users/Admin/Downloads/chromedriver\")\n",
    "browser.get(\"https://www.facebook.com/\")\n",
    "\n",
    "e = input(\"Enter your email i.e. linked with facebook:\\n\")\n",
    "#Taking the email id from the user and storing it in variable 'e'.\n",
    "p = getpass.getpass(prompt='Enter your fb password:\\n')\n",
    "#Taking the password from the user and storing it in variable 'e'.\n",
    "#Note the usage of getpass to keep the password hidden\n",
    "#But getpass functionality doesn't work on Sypder Console, try Jupyter Notebook for this. \n",
    "\n",
    "email = browser.find_element_by_id(\"email\")\n",
    "email.send_keys(e)\n",
    "#Sending the email address provided by the user in desired place\n",
    "\n",
    "password = browser.find_element_by_id(\"pass\")\n",
    "password.send_keys(p)\n",
    "#Sending the password provided by the user in desired place\n",
    "\n",
    "log_in = browser.find_element_by_id(\"loginbutton\")\n",
    "log_in.click()"
   ]
  },
  {
   "cell_type": "code",
   "execution_count": null,
   "metadata": {},
   "outputs": [],
   "source": []
  }
 ],
 "metadata": {
  "kernelspec": {
   "display_name": "Python 3",
   "language": "python",
   "name": "python3"
  },
  "language_info": {
   "codemirror_mode": {
    "name": "ipython",
    "version": 3
   },
   "file_extension": ".py",
   "mimetype": "text/x-python",
   "name": "python",
   "nbconvert_exporter": "python",
   "pygments_lexer": "ipython3",
   "version": "3.6.4"
  }
 },
 "nbformat": 4,
 "nbformat_minor": 2
}
