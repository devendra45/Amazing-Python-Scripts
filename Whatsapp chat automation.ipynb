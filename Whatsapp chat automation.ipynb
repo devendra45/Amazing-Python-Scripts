{
 "cells": [
  {
   "cell_type": "markdown",
   "metadata": {},
   "source": [
    "## Whatsapp chat automation using selenium\n",
    "### 1. Multiple message to a single person"
   ]
  },
  {
   "cell_type": "code",
   "execution_count": 7,
   "metadata": {},
   "outputs": [
    {
     "name": "stdout",
     "output_type": "stream",
     "text": [
      "select target\n",
      "Target Successfully Selected\n",
      "Message sent successfully!!\n"
     ]
    }
   ],
   "source": [
    "# import required libraries\n",
    "\n",
    "from selenium import webdriver \n",
    "from selenium.webdriver.support.ui import WebDriverWait \n",
    "from selenium.webdriver.support import expected_conditions as EC \n",
    "from selenium.webdriver.common.keys import Keys \n",
    "from selenium.webdriver.common.by import By  \n",
    "import time \n",
    "# Replace below path with the absolute path \n",
    "# to chromedriver in your computer \n",
    "driver = webdriver.Chrome('C:/Users/Admin/Downloads/chromedriver') \n",
    "  \n",
    "driver.get(\"https://web.whatsapp.com/\") \n",
    "wait = WebDriverWait(driver, 600)\n",
    "\n",
    "print(\"select target\")\n",
    "# Replace 'Friend's Name' with the name of your friend  \n",
    "# or the name of a group  \n",
    "target = '\"Dev\"' #choose other name from your contact list\n",
    "  \n",
    "# Replace the below string with your own message \n",
    "string = \"Your whatsapp is at risk!!!.....Hacked!!\"\n",
    "  \n",
    "x_arg = '//span[contains(@title,' + target + ')]'\n",
    "try:\n",
    "    wait.until(EC.presence_of_element_located(( \n",
    "        By.XPATH, x_arg))) \n",
    "except:\n",
    "    print(\"Target doesn't exists in whatsapp\")\n",
    "    \n",
    "driver.find_element_by_xpath(x_arg).click()\n",
    "\n",
    "print(\"Target Successfully Selected\")\n",
    "\n",
    "inp_xpath=\"//div[@data-tab='1']\"\n",
    "input_box=wait.until(EC.presence_of_element_located(( \n",
    "    By.XPATH, inp_xpath))) \n",
    "\n",
    "for i in range(500): # range defines number of times you want to send msg\n",
    "    input_box.send_keys(string + Keys.ENTER) \n",
    "    time.sleep(0.25)\n",
    "\n",
    "driver.quit()\n",
    "print(\"Message sent successfully!!\")"
   ]
  },
  {
   "cell_type": "markdown",
   "metadata": {},
   "source": [
    "### 2. Sending same message to multiple contacts"
   ]
  },
  {
   "cell_type": "code",
   "execution_count": null,
   "metadata": {},
   "outputs": [],
   "source": [
    "# import required libraries\n",
    "\n",
    "from selenium import webdriver \n",
    "from selenium.webdriver.support.ui import WebDriverWait \n",
    "from selenium.webdriver.support import expected_conditions as EC \n",
    "from selenium.webdriver.common.keys import Keys \n",
    "from selenium.webdriver.common.by import By  \n",
    "import time \n",
    "\n",
    "number_of_person=int(input(\"Nunber of person you want to send message: \"))\n",
    "contacts=[]\n",
    "for i in range(1,number_of_person+1):\n",
    "    contacts.append(input(\"Enter name of {} person: \".format(i)))\n",
    "\n",
    "# Replace below path with the absolute path \n",
    "# to chromedriver in your computer \n",
    "driver = webdriver.Chrome('C:/Users/Admin/Downloads/chromedriver') \n",
    "  \n",
    "driver.get(\"https://web.whatsapp.com/\") \n",
    "wait = WebDriverWait(driver, 600)\n",
    "\n",
    "print(\"selection of target begins\")\n",
    "# Replace 'Friend's Name' with the name of your friend  \n",
    "# or the name of a group  \n",
    "for tar in contacts:\n",
    "    target='tar'\n",
    "  \n",
    "    # Replace the below string with your own message \n",
    "    string = \"Message sent using Python!!\"\n",
    "\n",
    "    x_arg = '//span[contains(@title,' + target + ')]'\n",
    "    try:\n",
    "        wait.until(EC.presence_of_element_located(( \n",
    "            By.XPATH, x_arg))) \n",
    "    except:\n",
    "        print(\"Target doesn't exists in whatsapp\")\n",
    "\n",
    "    driver.find_element_by_xpath(x_arg).click()\n",
    "\n",
    "    print(\"Target: \",tar,\"is Selected Successfully\")\n",
    "\n",
    "    inp_xpath=\"//div[@data-tab='1']\"\n",
    "    input_box=wait.until(EC.presence_of_element_located(( \n",
    "        By.XPATH, inp_xpath))) \n",
    "\n",
    "    input_box.send_keys(string + Keys.ENTER) \n",
    "    time.sleep(1)\n",
    "    print(\"Message sent successfully to \",tar)\n",
    "\n",
    "driver.quit()\n",
    "print(\"Message sent successfully to all contacts!!\")"
   ]
  }
 ],
 "metadata": {
  "kernelspec": {
   "display_name": "Python 3",
   "language": "python",
   "name": "python3"
  },
  "language_info": {
   "codemirror_mode": {
    "name": "ipython",
    "version": 3
   },
   "file_extension": ".py",
   "mimetype": "text/x-python",
   "name": "python",
   "nbconvert_exporter": "python",
   "pygments_lexer": "ipython3",
   "version": "3.6.4"
  }
 },
 "nbformat": 4,
 "nbformat_minor": 2
}
